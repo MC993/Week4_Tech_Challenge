{
 "cells": [
  {
   "cell_type": "markdown",
   "metadata": {},
   "source": [
    "<h1 style=\"color: #FF8C00;\">Portfolio Analysis: Python Challenge</h1>\n",
    "\n",
    "---\n",
    "\n",
    "**This challenge** represents a practical tech assignment designed to test your skills in portfolio analysis. Portfolio analysis is a systematic way to evaluate investment portfolios to optimize asset allocation and management. It involves a variety of financial metrics and visualizations to assess the performance and risk of different financial assets.\n",
    "\n",
    "- In this exercise, you will be required to perform a series of calculations and create visualizations to analyze a set of financial assets.\n",
    "- Your task is to develop the necessary code to accomplish each of these tasks effectively.\n",
    "- This challenge is an opportunity to demonstrate your ability to apply Python programming skills in a real-world financial context."
   ]
  },
  {
   "cell_type": "markdown",
   "metadata": {},
   "source": [
    "<h1 style=\"color: #FF8C00;\">Libraries</h1>"
   ]
  },
  {
   "cell_type": "markdown",
   "metadata": {},
   "source": [
    "<h3 style=\"color: #FF6347;\">-- Insert your code here --</h3>\n",
    "\n",
    "---\n",
    "\n",
    "Make sure to import all the libraries you will need to complete your tasks in this challenge."
   ]
  },
  {
   "cell_type": "code",
   "execution_count": 2,
   "metadata": {},
   "outputs": [],
   "source": [
    "import pandas as pd\n",
    "import numpy as np\n",
    "import matplotlib.pyplot as plt\n",
    "import seaborn as sns\n",
    "import scipy.stats as sts"
   ]
  },
  {
   "cell_type": "markdown",
   "metadata": {},
   "source": [
    "<h1 style=\"color: #FF8C00;\">Exercise 1: Data Loading and Price Charting</h1>\n",
    "\n",
    "---\n",
    "\n",
    "You are tasked with loading and analyzing financial data, which is foundational for effective portfolio management. Begin by loading the file named `asset_price_data.csv`, containing essential pricing information for various financial assets.\n",
    "\n",
    "Post data loading, your objective is to visualize this data through a time series graph.The integrity of your analysis depends heavily on your ability to visualize trends accurately while ensuring all asset price series begin at a uniform value."
   ]
  },
  {
   "cell_type": "markdown",
   "metadata": {},
   "source": [
    "<h3 style=\"color: #FF6347;\">Data Loading</h3>\n",
    "<h3 style=\"color: #FF6347;\">-- Insert your code here --</h3>"
   ]
  },
  {
   "cell_type": "code",
   "execution_count": 5,
   "metadata": {},
   "outputs": [
    {
     "data": {
      "text/html": [
       "<div>\n",
       "<style scoped>\n",
       "    .dataframe tbody tr th:only-of-type {\n",
       "        vertical-align: middle;\n",
       "    }\n",
       "\n",
       "    .dataframe tbody tr th {\n",
       "        vertical-align: top;\n",
       "    }\n",
       "\n",
       "    .dataframe thead th {\n",
       "        text-align: right;\n",
       "    }\n",
       "</style>\n",
       "<table border=\"1\" class=\"dataframe\">\n",
       "  <thead>\n",
       "    <tr style=\"text-align: right;\">\n",
       "      <th></th>\n",
       "      <th>date</th>\n",
       "      <th>Asset1</th>\n",
       "      <th>Asset2</th>\n",
       "      <th>Asset3</th>\n",
       "      <th>Asset4</th>\n",
       "      <th>Asset5</th>\n",
       "    </tr>\n",
       "  </thead>\n",
       "  <tbody>\n",
       "    <tr>\n",
       "      <th>0</th>\n",
       "      <td>2019-01-02</td>\n",
       "      <td>231.5061</td>\n",
       "      <td>55.875</td>\n",
       "      <td>25.649222</td>\n",
       "      <td>302.93</td>\n",
       "      <td>50.89</td>\n",
       "    </tr>\n",
       "    <tr>\n",
       "      <th>1</th>\n",
       "      <td>2019-01-03</td>\n",
       "      <td>231.0356</td>\n",
       "      <td>54.977</td>\n",
       "      <td>25.503047</td>\n",
       "      <td>302.11</td>\n",
       "      <td>50.41</td>\n",
       "    </tr>\n",
       "    <tr>\n",
       "      <th>2</th>\n",
       "      <td>2019-01-04</td>\n",
       "      <td>230.4026</td>\n",
       "      <td>56.129</td>\n",
       "      <td>26.147133</td>\n",
       "      <td>301.77</td>\n",
       "      <td>51.38</td>\n",
       "    </tr>\n",
       "    <tr>\n",
       "      <th>3</th>\n",
       "      <td>2019-01-07</td>\n",
       "      <td>230.0543</td>\n",
       "      <td>56.838</td>\n",
       "      <td>25.955277</td>\n",
       "      <td>302.33</td>\n",
       "      <td>52.14</td>\n",
       "    </tr>\n",
       "    <tr>\n",
       "      <th>4</th>\n",
       "      <td>2019-01-08</td>\n",
       "      <td>229.7012</td>\n",
       "      <td>56.895</td>\n",
       "      <td>26.137997</td>\n",
       "      <td>303.42</td>\n",
       "      <td>52.13</td>\n",
       "    </tr>\n",
       "    <tr>\n",
       "      <th>...</th>\n",
       "      <td>...</td>\n",
       "      <td>...</td>\n",
       "      <td>...</td>\n",
       "      <td>...</td>\n",
       "      <td>...</td>\n",
       "      <td>...</td>\n",
       "    </tr>\n",
       "    <tr>\n",
       "      <th>778</th>\n",
       "      <td>2021-12-27</td>\n",
       "      <td>249.9207</td>\n",
       "      <td>103.956</td>\n",
       "      <td>38.820000</td>\n",
       "      <td>NaN</td>\n",
       "      <td>70.11</td>\n",
       "    </tr>\n",
       "    <tr>\n",
       "      <th>779</th>\n",
       "      <td>2021-12-28</td>\n",
       "      <td>249.9368</td>\n",
       "      <td>104.526</td>\n",
       "      <td>39.115000</td>\n",
       "      <td>NaN</td>\n",
       "      <td>70.03</td>\n",
       "    </tr>\n",
       "    <tr>\n",
       "      <th>780</th>\n",
       "      <td>2021-12-29</td>\n",
       "      <td>248.7215</td>\n",
       "      <td>104.360</td>\n",
       "      <td>38.855000</td>\n",
       "      <td>342.46</td>\n",
       "      <td>69.81</td>\n",
       "    </tr>\n",
       "    <tr>\n",
       "      <th>781</th>\n",
       "      <td>2021-12-30</td>\n",
       "      <td>248.5485</td>\n",
       "      <td>104.663</td>\n",
       "      <td>38.985000</td>\n",
       "      <td>342.55</td>\n",
       "      <td>69.91</td>\n",
       "    </tr>\n",
       "    <tr>\n",
       "      <th>782</th>\n",
       "      <td>2021-12-31</td>\n",
       "      <td>248.7545</td>\n",
       "      <td>104.106</td>\n",
       "      <td>39.005000</td>\n",
       "      <td>342.59</td>\n",
       "      <td>NaN</td>\n",
       "    </tr>\n",
       "  </tbody>\n",
       "</table>\n",
       "<p>783 rows × 6 columns</p>\n",
       "</div>"
      ],
      "text/plain": [
       "           date    Asset1   Asset2     Asset3  Asset4  Asset5\n",
       "0    2019-01-02  231.5061   55.875  25.649222  302.93   50.89\n",
       "1    2019-01-03  231.0356   54.977  25.503047  302.11   50.41\n",
       "2    2019-01-04  230.4026   56.129  26.147133  301.77   51.38\n",
       "3    2019-01-07  230.0543   56.838  25.955277  302.33   52.14\n",
       "4    2019-01-08  229.7012   56.895  26.137997  303.42   52.13\n",
       "..          ...       ...      ...        ...     ...     ...\n",
       "778  2021-12-27  249.9207  103.956  38.820000     NaN   70.11\n",
       "779  2021-12-28  249.9368  104.526  39.115000     NaN   70.03\n",
       "780  2021-12-29  248.7215  104.360  38.855000  342.46   69.81\n",
       "781  2021-12-30  248.5485  104.663  38.985000  342.55   69.91\n",
       "782  2021-12-31  248.7545  104.106  39.005000  342.59     NaN\n",
       "\n",
       "[783 rows x 6 columns]"
      ]
     },
     "execution_count": 5,
     "metadata": {},
     "output_type": "execute_result"
    }
   ],
   "source": [
    "data = pd.read_csv('C:/Data_Science/IH_Notebooks/Week4_Tech_Challenge/asset_price_data.csv')\n",
    "\n",
    "asset_df = data.copy()\n",
    "asset_df"
   ]
  },
  {
   "cell_type": "code",
   "execution_count": 9,
   "metadata": {},
   "outputs": [],
   "source": [
    "asset_df = asset_df.fillna(0.0)"
   ]
  },
  {
   "cell_type": "code",
   "execution_count": 13,
   "metadata": {},
   "outputs": [],
   "source": [
    "asset_df['date'] = pd.to_datetime(asset_df['date'])"
   ]
  },
  {
   "cell_type": "code",
   "execution_count": 15,
   "metadata": {},
   "outputs": [
    {
     "data": {
      "text/html": [
       "<div>\n",
       "<style scoped>\n",
       "    .dataframe tbody tr th:only-of-type {\n",
       "        vertical-align: middle;\n",
       "    }\n",
       "\n",
       "    .dataframe tbody tr th {\n",
       "        vertical-align: top;\n",
       "    }\n",
       "\n",
       "    .dataframe thead th {\n",
       "        text-align: right;\n",
       "    }\n",
       "</style>\n",
       "<table border=\"1\" class=\"dataframe\">\n",
       "  <thead>\n",
       "    <tr style=\"text-align: right;\">\n",
       "      <th></th>\n",
       "      <th>Asset1</th>\n",
       "      <th>Asset2</th>\n",
       "      <th>Asset3</th>\n",
       "      <th>Asset4</th>\n",
       "      <th>Asset5</th>\n",
       "    </tr>\n",
       "  </thead>\n",
       "  <tbody>\n",
       "    <tr>\n",
       "      <th>0</th>\n",
       "      <td>231.5061</td>\n",
       "      <td>55.875</td>\n",
       "      <td>25.649222</td>\n",
       "      <td>302.93</td>\n",
       "      <td>50.89</td>\n",
       "    </tr>\n",
       "    <tr>\n",
       "      <th>1</th>\n",
       "      <td>231.0356</td>\n",
       "      <td>54.977</td>\n",
       "      <td>25.503047</td>\n",
       "      <td>302.11</td>\n",
       "      <td>50.41</td>\n",
       "    </tr>\n",
       "    <tr>\n",
       "      <th>2</th>\n",
       "      <td>230.4026</td>\n",
       "      <td>56.129</td>\n",
       "      <td>26.147133</td>\n",
       "      <td>301.77</td>\n",
       "      <td>51.38</td>\n",
       "    </tr>\n",
       "    <tr>\n",
       "      <th>3</th>\n",
       "      <td>230.0543</td>\n",
       "      <td>56.838</td>\n",
       "      <td>25.955277</td>\n",
       "      <td>302.33</td>\n",
       "      <td>52.14</td>\n",
       "    </tr>\n",
       "    <tr>\n",
       "      <th>4</th>\n",
       "      <td>229.7012</td>\n",
       "      <td>56.895</td>\n",
       "      <td>26.137997</td>\n",
       "      <td>303.42</td>\n",
       "      <td>52.13</td>\n",
       "    </tr>\n",
       "    <tr>\n",
       "      <th>...</th>\n",
       "      <td>...</td>\n",
       "      <td>...</td>\n",
       "      <td>...</td>\n",
       "      <td>...</td>\n",
       "      <td>...</td>\n",
       "    </tr>\n",
       "    <tr>\n",
       "      <th>778</th>\n",
       "      <td>249.9207</td>\n",
       "      <td>103.956</td>\n",
       "      <td>38.820000</td>\n",
       "      <td>0.00</td>\n",
       "      <td>70.11</td>\n",
       "    </tr>\n",
       "    <tr>\n",
       "      <th>779</th>\n",
       "      <td>249.9368</td>\n",
       "      <td>104.526</td>\n",
       "      <td>39.115000</td>\n",
       "      <td>0.00</td>\n",
       "      <td>70.03</td>\n",
       "    </tr>\n",
       "    <tr>\n",
       "      <th>780</th>\n",
       "      <td>248.7215</td>\n",
       "      <td>104.360</td>\n",
       "      <td>38.855000</td>\n",
       "      <td>342.46</td>\n",
       "      <td>69.81</td>\n",
       "    </tr>\n",
       "    <tr>\n",
       "      <th>781</th>\n",
       "      <td>248.5485</td>\n",
       "      <td>104.663</td>\n",
       "      <td>38.985000</td>\n",
       "      <td>342.55</td>\n",
       "      <td>69.91</td>\n",
       "    </tr>\n",
       "    <tr>\n",
       "      <th>782</th>\n",
       "      <td>248.7545</td>\n",
       "      <td>104.106</td>\n",
       "      <td>39.005000</td>\n",
       "      <td>342.59</td>\n",
       "      <td>0.00</td>\n",
       "    </tr>\n",
       "  </tbody>\n",
       "</table>\n",
       "<p>783 rows × 5 columns</p>\n",
       "</div>"
      ],
      "text/plain": [
       "       Asset1   Asset2     Asset3  Asset4  Asset5\n",
       "0    231.5061   55.875  25.649222  302.93   50.89\n",
       "1    231.0356   54.977  25.503047  302.11   50.41\n",
       "2    230.4026   56.129  26.147133  301.77   51.38\n",
       "3    230.0543   56.838  25.955277  302.33   52.14\n",
       "4    229.7012   56.895  26.137997  303.42   52.13\n",
       "..        ...      ...        ...     ...     ...\n",
       "778  249.9207  103.956  38.820000    0.00   70.11\n",
       "779  249.9368  104.526  39.115000    0.00   70.03\n",
       "780  248.7215  104.360  38.855000  342.46   69.81\n",
       "781  248.5485  104.663  38.985000  342.55   69.91\n",
       "782  248.7545  104.106  39.005000  342.59    0.00\n",
       "\n",
       "[783 rows x 5 columns]"
      ]
     },
     "execution_count": 15,
     "metadata": {},
     "output_type": "execute_result"
    }
   ],
   "source": [
    "num = asset_df.select_dtypes(include= 'number')\n",
    "num"
   ]
  },
  {
   "cell_type": "markdown",
   "metadata": {},
   "source": [
    "<h1 style=\"color: #FF8C00;\">Exercise 2: Daily Percentage Returns</h1>\n",
    "\n",
    "---\n",
    "\n",
    "You are required to calculate the daily percentage returns for each financial asset. Utilize this data to accomplish the following:\n",
    "- Calculate the correlation matrix for the five assets.\n",
    "- Create a scatter plot comparing the returns of two specific assets."
   ]
  },
  {
   "cell_type": "markdown",
   "metadata": {},
   "source": [
    "<h2 style=\"color: #FF6347;\">Daily Returns Calculation.</h2>\n",
    "<h3 style=\"color: #FF6347;\">-- Insert your code here --</h3>"
   ]
  },
  {
   "cell_type": "code",
   "execution_count": null,
   "metadata": {},
   "outputs": [],
   "source": []
  },
  {
   "cell_type": "code",
   "execution_count": null,
   "metadata": {},
   "outputs": [],
   "source": []
  },
  {
   "cell_type": "markdown",
   "metadata": {},
   "source": [
    "<h2 style=\"color: #FF6347;\">Correlation Matrix Calculation.</h2>\n",
    "<h3 style=\"color: #FF6347;\">-- Insert your code here --</h3>"
   ]
  },
  {
   "cell_type": "code",
   "execution_count": 17,
   "metadata": {},
   "outputs": [],
   "source": [
    "correlation_matrix = num.corr()"
   ]
  },
  {
   "cell_type": "markdown",
   "metadata": {
    "tags": []
   },
   "source": [
    "<h2 style=\"color: #FF6347;\">Scatter Plot between the Returns of Two Assets.</h2>\n",
    "<h3 style=\"color: #FF6347;\">-- Insert your code here --</h3>"
   ]
  },
  {
   "cell_type": "code",
   "execution_count": null,
   "metadata": {},
   "outputs": [],
   "source": []
  },
  {
   "cell_type": "markdown",
   "metadata": {},
   "source": [
    "<h1 style=\"color: #FF8C00;\">Exercise 3: Portfolio Analysis</h1>\n",
    "\n",
    "---\n",
    "\n",
    "This third exercise focuses on calculating and analyzing the performance of a portfolio. Begin by loading the file named `portfolio_weights.csv`, which contains the daily weights of each asset in the portfolio.\n",
    "\n",
    "To complete the exercise, you will need to perform the following tasks:\n",
    "- Create an area chart of the asset weights.\n",
    "- Plot the historical cumulative returns of the portfolio.\n",
    "- Calculate the annualized return of the portfolio.\n",
    "- Determine the annualized volatility of the portfolio (using an annualization factor of 261 days).\n",
    "- Produce an area chart grouping asset weights by their categories, as detailed in the `asset_information_data.csv`."
   ]
  },
  {
   "cell_type": "markdown",
   "metadata": {
    "tags": []
   },
   "source": [
    "<h2 style=\"color: #FF6347;\">Area Chart of Asset Weights.</h2>\n",
    "<h3 style=\"color: #FF6347;\">-- Insert your code here --</h3>"
   ]
  },
  {
   "cell_type": "code",
   "execution_count": null,
   "metadata": {},
   "outputs": [],
   "source": []
  },
  {
   "cell_type": "markdown",
   "metadata": {
    "tags": []
   },
   "source": [
    "<h2 style=\"color: #FF6347;\">Chart of Historical Cumulative Returns of the Portfolio.</h2>\n",
    "<h3 style=\"color: #FF6347;\">-- Insert your code here --</h3>"
   ]
  },
  {
   "cell_type": "code",
   "execution_count": null,
   "metadata": {},
   "outputs": [],
   "source": []
  },
  {
   "cell_type": "markdown",
   "metadata": {
    "tags": []
   },
   "source": [
    "<h2 style=\"color: #FF6347;\">Annualized Return.</h2>\n",
    "<h3 style=\"color: #FF6347;\">-- Insert your code here --</h3>"
   ]
  },
  {
   "cell_type": "code",
   "execution_count": null,
   "metadata": {},
   "outputs": [],
   "source": []
  },
  {
   "cell_type": "markdown",
   "metadata": {
    "tags": []
   },
   "source": [
    "<h2 style=\"color: #FF6347;\">Annualized Volatility.</h2>\n",
    "<h3 style=\"color: #FF6347;\">-- Insert your code here --</h3>"
   ]
  },
  {
   "cell_type": "code",
   "execution_count": null,
   "metadata": {},
   "outputs": [],
   "source": []
  },
  {
   "cell_type": "markdown",
   "metadata": {
    "tags": []
   },
   "source": [
    "<h2 style=\"color: #FF6347;\">Area Chart of Asset Weights Grouped by Family.</h2>\n",
    "<h3 style=\"color: #FF6347;\">-- Insert your code here --</h3>"
   ]
  },
  {
   "cell_type": "code",
   "execution_count": null,
   "metadata": {},
   "outputs": [],
   "source": []
  }
 ],
 "metadata": {
  "colab": {
   "provenance": [
    {
     "file_id": "1fHXMQvsfUK6jFCwgFlCA_WDoSXI7rzN4",
     "timestamp": 1698662695337
    },
    {
     "file_id": "1OX3IZEGgfyEzu1luFVYojAIp89lVkPmw",
     "timestamp": 1691153287206
    }
   ]
  },
  "kernelspec": {
   "display_name": "Python 3 (ipykernel)",
   "language": "python",
   "name": "python3"
  },
  "language_info": {
   "codemirror_mode": {
    "name": "ipython",
    "version": 3
   },
   "file_extension": ".py",
   "mimetype": "text/x-python",
   "name": "python",
   "nbconvert_exporter": "python",
   "pygments_lexer": "ipython3",
   "version": "3.13.2"
  }
 },
 "nbformat": 4,
 "nbformat_minor": 4
}
